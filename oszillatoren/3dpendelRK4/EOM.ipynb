{
 "cells": [
  {
   "cell_type": "code",
   "execution_count": 2,
   "id": "3720ecd9",
   "metadata": {},
   "outputs": [],
   "source": [
    "import sympy as smp\n",
    "import numpy as np\n",
    "from sympy import *\n"
   ]
  },
  {
   "cell_type": "code",
   "execution_count": 11,
   "id": "c0c92f9e",
   "metadata": {},
   "outputs": [],
   "source": [
    "t, g, m, L = smp.symbols(\"t, g, m, L\")\n",
    "phi, theta = smp.symbols(\"varphi, theta\", cls = smp.Function)\n",
    "phi = phi(t)\n",
    "theta = theta(t)\n",
    "x = L*smp.sin(theta)*smp.cos(phi)\n",
    "y = L*smp.sin(theta)*smp.sin(phi)\n",
    "z = L*(-smp.cos(theta))\n",
    "T = 1/2*m*(smp.diff(x,t)**2 + smp.diff(y,t)**2 + smp.diff(z,t)**2)\n",
    "T = T.simplify()\n",
    "V = m*g*z\n",
    "L = T-V\n",
    "ELE1 = smp.diff(smp.diff(L,smp.diff(theta,t)),t) - smp.diff(L, theta).simplify()\n",
    "ELE2 = smp.diff(smp.diff(L,smp.diff(phi,t)),t) - smp.diff(L,phi).simplify()\n",
    "sol1 = smp.solve(ELE1, smp.diff(theta, t, 2), rational = False)[0].simplify()\n",
    "sol2 = smp.solve(ELE2, smp.diff(phi, t, 2), rational = False)[0].simplify()"
   ]
  },
  {
   "cell_type": "code",
   "execution_count": 12,
   "id": "7fe3c169",
   "metadata": {},
   "outputs": [
    {
     "data": {
      "text/latex": [
       "$\\displaystyle \\frac{1.0 \\left(L \\cos{\\left(\\theta{\\left(t \\right)} \\right)} \\left(\\frac{d}{d t} \\varphi{\\left(t \\right)}\\right)^{2} - g\\right) \\sin{\\left(\\theta{\\left(t \\right)} \\right)}}{L}$"
      ],
      "text/plain": [
       "1.0*(L*cos(theta(t))*Derivative(varphi(t), t)**2 - g)*sin(theta(t))/L"
      ]
     },
     "execution_count": 12,
     "metadata": {},
     "output_type": "execute_result"
    }
   ],
   "source": [
    "sol1"
   ]
  },
  {
   "cell_type": "code",
   "execution_count": 13,
   "id": "91c5e7da",
   "metadata": {},
   "outputs": [
    {
     "data": {
      "text/latex": [
       "$\\displaystyle - \\frac{2.0 \\frac{d}{d t} \\theta{\\left(t \\right)} \\frac{d}{d t} \\varphi{\\left(t \\right)}}{\\tan{\\left(\\theta{\\left(t \\right)} \\right)}}$"
      ],
      "text/plain": [
       "-2.0*Derivative(theta(t), t)*Derivative(varphi(t), t)/tan(theta(t))"
      ]
     },
     "execution_count": 13,
     "metadata": {},
     "output_type": "execute_result"
    }
   ],
   "source": [
    "sol2"
   ]
  }
 ],
 "metadata": {
  "kernelspec": {
   "display_name": "base",
   "language": "python",
   "name": "python3"
  },
  "language_info": {
   "codemirror_mode": {
    "name": "ipython",
    "version": 3
   },
   "file_extension": ".py",
   "mimetype": "text/x-python",
   "name": "python",
   "nbconvert_exporter": "python",
   "pygments_lexer": "ipython3",
   "version": "3.13.5"
  }
 },
 "nbformat": 4,
 "nbformat_minor": 5
}
