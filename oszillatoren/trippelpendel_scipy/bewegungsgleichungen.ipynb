{
 "cells": [
  {
   "cell_type": "code",
   "execution_count": 1,
   "id": "122d7b38",
   "metadata": {},
   "outputs": [],
   "source": [
    "\n",
    "import sympy as smp\n",
    "import numpy as np\n",
    "from sympy import *\n",
    "from scipy.integrate import odeint\n",
    "from scipy.integrate import solve_ivp\n",
    "from sympy.solvers.solveset import linsolve, nonlinsolve\n",
    "\n"
   ]
  },
  {
   "cell_type": "code",
   "execution_count": 2,
   "id": "6671b67b",
   "metadata": {},
   "outputs": [],
   "source": [
    "t, g, m1, m2, m3, L1, L2, L3 = smp.symbols(\"t, g, m1, m2, m3, L1, L2, L3\")\n",
    "phi1, phi2, phi3 = smp.symbols(\"varphi1, varphi2, varphi3\", cls = smp.Function)\n",
    "phi1 = phi1(t)\n",
    "phi2 = phi2(t)\n",
    "phi3 = phi3(t)\n",
    "dphi1 = smp.diff(phi1,t)\n",
    "dphi2 = smp.diff(phi2,t)\n",
    "dphi3 = smp.diff(phi3,t)\n",
    "ddphi1 = smp.diff(dphi1,t)\n",
    "ddphi2 = smp.diff(dphi2,t)\n",
    "ddphi3 = smp.diff(dphi3,t)\n",
    "x1 = L1 * smp.sin(phi1)\n",
    "y1 = -L1 * smp.cos(phi1)\n",
    "x2 = x1 + L2 * smp.sin(phi2)\n",
    "y2 = y1 - L2 * smp.cos(phi2)\n",
    "x3 = x2 + L3 * smp.sin(phi3)\n",
    "y3 = y2 - L3 * smp.cos(phi3)\n",
    "T = 1/2 * ( m1 * (smp.diff(x1,t)**2 + smp.diff(y1,t)**2) + m2 * (smp.diff(x2,t)**2 + smp.diff(y2,t)**2) + m3 * (smp.diff(x3,t)**2 + smp.diff(y3,t)**2))\n",
    "V = m1 * g *y1 + m2 * g * y2 + m3 * g * y3\n",
    "L = T - V \n",
    "\n",
    "ELE1 = (smp.diff(smp.diff(L, dphi1), t) - smp.diff(L, phi1)).simplify()\n",
    "ELE2 = (smp.diff(smp.diff(L, dphi2), t) - smp.diff(L, phi2)).simplify()\n",
    "ELE3 = (smp.diff(smp.diff(L, dphi3), t) - smp.diff(L, phi3)).simplify()\n",
    "sols = smp.solve([ELE1, ELE2, ELE3], (ddphi1, ddphi2, ddphi3))\n",
    "\n",
    "\n"
   ]
  },
  {
   "cell_type": "code",
   "execution_count": 3,
   "id": "305117b6",
   "metadata": {},
   "outputs": [],
   "source": [
    "x1_f = smp.lambdify((phi1, phi2, phi3, L1, L2, L3), x1)\n",
    "y1_f = smp.lambdify((phi1, phi2, phi3, L1, L2, L3), y1)\n",
    "x2_f = smp.lambdify((phi1, phi2, phi3, L1, L2, L3), x2)\n",
    "y2_f = smp.lambdify((phi1, phi2, phi3, L1, L2, L3), y2)\n",
    "x3_f = smp.lambdify((phi1, phi2, phi3, L1, L2, L3), x3)\n",
    "y3_f = smp.lambdify((phi1, phi2, phi3, L1, L2, L3), y3)\n"
   ]
  },
  {
   "cell_type": "code",
   "execution_count": 4,
   "id": "c0e6974b",
   "metadata": {},
   "outputs": [],
   "source": [
    "do1 = smp.lambdify((t, g, m1, m2, m3, L1, L2, L3, phi1, phi2, phi3, dphi1, dphi2, dphi3), sols[ddphi1])\n",
    "do2 = smp.lambdify((t, g, m1, m2, m3, L1, L2, L3, phi1, phi2, phi3, dphi1, dphi2, dphi3), sols[ddphi2])\n",
    "do3 = smp.lambdify((t, g, m1, m2, m3, L1, L2, L3, phi1, phi2, phi3, dphi1, dphi2, dphi3), sols[ddphi3])\n",
    "dp1 = smp.lambdify(dphi1, dphi1)\n",
    "dp2 = smp.lambdify(dphi2, dphi2)\n",
    "dp3 = smp.lambdify(dphi3, dphi3)"
   ]
  },
  {
   "cell_type": "code",
   "execution_count": 5,
   "id": "33a4540e",
   "metadata": {},
   "outputs": [],
   "source": [
    "def dSdt(S, t, g, m1, m2, m3, L1, L2, L3):\n",
    "    phi1, phi2, phi3, op1, op2, op3 = S\n",
    "    return [\n",
    "        dp1(op1),\n",
    "        dp2(op2),\n",
    "        dp3(op3),\n",
    "        do1(t, g, m1, m2,m3, L1, L2, L3, phi1, phi2, phi3, op1, op2, op3),\n",
    "        do2(t, g, m1, m2,m3, L1, L2, L3, phi1, phi2, phi3, op1, op2, op3),\n",
    "        do3(t, g, m1, m2,m3, L1, L2, L3, phi1, phi2, phi3, op1, op2, op3),\n",
    "    ]"
   ]
  },
  {
   "cell_type": "code",
   "execution_count": 6,
   "id": "4013972b",
   "metadata": {},
   "outputs": [],
   "source": [
    "t = np.linspace(0, 40, 10000)\n",
    "g = 9.81\n",
    "m1=2\n",
    "m2=1\n",
    "m3 = 1\n",
    "L1 = 2\n",
    "L2 = 1\n",
    "L3 = 1\n",
    "y1 = []\n",
    "y2 = [3,0.5,0.5,0,0,0]\n",
    "\n",
    "ans = odeint(dSdt, y0=y2, t=t, args=(g,m1,m2, m3, L1,L2, L3 ))\n",
    "\n",
    "phi1 = ans.T[0]\n",
    "phi2 = ans.T[1]\n",
    "phi3 = ans.T[2]\n",
    "\n",
    "def get_pos(phi1, phi2, phi3, L1, L2, L3):\n",
    "    i = len(x1_f(phi1, phi2, phi3, L1, L2, L3))\n",
    "    return (x1_f(phi1, phi2, phi3, L1, L2, L3),\n",
    "            y1_f(phi1, phi2, phi3, L1, L2, L3),\n",
    "            x2_f(phi1, phi2, phi3, L1, L2, L3),\n",
    "            y2_f(phi1, phi2, phi3, L1, L2, L3),\n",
    "            x3_f(phi1, phi2, phi3, L1, L2, L3),\n",
    "            y3_f(phi1, phi2, phi3, L1, L2, L3),  [L1 for i in range(i)], [L2 for i in range(i)], [L3 for i in range(i)])\n",
    "\n",
    "x1, y1, x2, y2, x3, y3, L1vec, L2vec, L3vec = get_pos(ans.T[0], ans.T[1], ans.T[2], L1, L2, L3)\n",
    "np.savetxt('trippelpendelpos.txt', np.array([x1, y1, x2, y2, x3, y3, L1vec, L2vec, L3vec]))\n",
    "alldata = np.insert(ans, 0, t, axis = 1)\n",
    "np.savetxt('trippelpendelall.txt', np.array(alldata))\n"
   ]
  },
  {
   "cell_type": "code",
   "execution_count": null,
   "id": "dd47e806",
   "metadata": {},
   "outputs": [],
   "source": [
    "\n"
   ]
  },
  {
   "cell_type": "code",
   "execution_count": null,
   "id": "3a3d3a6f",
   "metadata": {},
   "outputs": [],
   "source": [
    "\n"
   ]
  }
 ],
 "metadata": {
  "kernelspec": {
   "display_name": "base",
   "language": "python",
   "name": "python3"
  },
  "language_info": {
   "codemirror_mode": {
    "name": "ipython",
    "version": 3
   },
   "file_extension": ".py",
   "mimetype": "text/x-python",
   "name": "python",
   "nbconvert_exporter": "python",
   "pygments_lexer": "ipython3",
   "version": "3.13.5"
  }
 },
 "nbformat": 4,
 "nbformat_minor": 5
}
